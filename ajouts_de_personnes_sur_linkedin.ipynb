{
 "cells": [
  {
   "cell_type": "code",
   "execution_count": 9,
   "metadata": {},
   "outputs": [],
   "source": [
    "from selenium import webdriver\n",
    "from time import sleep\n",
    "import pandas as pd \n",
    "import numpy as np"
   ]
  },
  {
   "cell_type": "code",
   "execution_count": 10,
   "metadata": {},
   "outputs": [],
   "source": [
    "# Open a chrome session \n",
    "driver = webdriver.Chrome(\"/Applications/chromedriver\")"
   ]
  },
  {
   "cell_type": "code",
   "execution_count": 11,
   "metadata": {},
   "outputs": [],
   "source": [
    "# Go to LinkedIn \n",
    "driver.get(\"https://www.linkedin.com\")"
   ]
  },
  {
   "cell_type": "code",
   "execution_count": 7,
   "metadata": {},
   "outputs": [],
   "source": [
    "# Documentation\n",
    "??driver.find_element_by_class_name"
   ]
  },
  {
   "cell_type": "code",
   "execution_count": 14,
   "metadata": {},
   "outputs": [],
   "source": [
    "# Log In \n",
    "username = driver.find_element_by_class_name(\"login-email\")\n",
    "username.send_keys(\"antoine@jedha.co\")\n",
    "\n",
    "sleep(0.5)\n",
    "\n",
    "pw = driver.find_element_by_class_name(\"login-password\")\n",
    "pw.send_keys(\"akljasmd4\")\n",
    "\n",
    "sleep(0.5)\n",
    "log_in_button = driver.find_element_by_class_name(\"submit-button\")\n",
    "log_in_button.click()"
   ]
  },
  {
   "cell_type": "code",
   "execution_count": 16,
   "metadata": {},
   "outputs": [],
   "source": [
    "driver.get(\"https://www.linkedin.com/search/results/people/?facetGeoRegion=%5B%22fr%3A0%22%5D&keywords=Talent%20Acquisition&origin=FACETED_SEARCH\")"
   ]
  },
  {
   "cell_type": "code",
   "execution_count": 18,
   "metadata": {},
   "outputs": [],
   "source": [
    "buttons = driver.find_elements_by_class_name(\"search-result__actions--primary\")"
   ]
  },
  {
   "cell_type": "code",
   "execution_count": 33,
   "metadata": {},
   "outputs": [],
   "source": [
    "buttons[1].click()"
   ]
  },
  {
   "cell_type": "code",
   "execution_count": 24,
   "metadata": {},
   "outputs": [],
   "source": [
    "send_invite = driver.find_element_by_class_name(\"send-invite__actions\")"
   ]
  },
  {
   "cell_type": "code",
   "execution_count": 26,
   "metadata": {},
   "outputs": [],
   "source": [
    "send_invite.find_element_by_class_name(\"artdeco-button--secondary\").click()"
   ]
  },
  {
   "cell_type": "code",
   "execution_count": 28,
   "metadata": {},
   "outputs": [],
   "source": [
    "message = driver.find_element_by_class_name(\"send-invite__custom-message\")"
   ]
  },
  {
   "cell_type": "code",
   "execution_count": 29,
   "metadata": {},
   "outputs": [],
   "source": [
    "message.send_keys(\"Bonjour, j'aimerais beaucoup faire partie de votre réseau\")"
   ]
  },
  {
   "cell_type": "code",
   "execution_count": 32,
   "metadata": {},
   "outputs": [],
   "source": [
    "invite_sent = driver.find_element_by_class_name(\"send-invite__actions\")\n",
    "invite_sent.find_element_by_class_name(\"ml1\").click()"
   ]
  },
  {
   "cell_type": "code",
   "execution_count": 19,
   "metadata": {},
   "outputs": [
    {
     "name": "stdout",
     "output_type": "stream",
     "text": [
      "Invite Sent\n",
      "Connect\n",
      "Connect\n",
      "Connect\n",
      "Connect\n",
      "Connect\n",
      "Connect\n",
      "Connect\n",
      "Connect\n",
      "Connect\n"
     ]
    }
   ],
   "source": [
    "for button in buttons:\n",
    "    if button.text == \"Connect\":\n",
    "        button.click()"
   ]
  },
  {
   "cell_type": "code",
   "execution_count": null,
   "metadata": {},
   "outputs": [],
   "source": [
    "driver.find_element_by_css_selector(\"input#ember92\")"
   ]
  }
 ],
 "metadata": {
  "kernelspec": {
   "display_name": "Python 3",
   "language": "python",
   "name": "python3"
  },
  "language_info": {
   "codemirror_mode": {
    "name": "ipython",
    "version": 3
   },
   "file_extension": ".py",
   "mimetype": "text/x-python",
   "name": "python",
   "nbconvert_exporter": "python",
   "pygments_lexer": "ipython3",
   "version": "3.6.8"
  }
 },
 "nbformat": 4,
 "nbformat_minor": 2
}
