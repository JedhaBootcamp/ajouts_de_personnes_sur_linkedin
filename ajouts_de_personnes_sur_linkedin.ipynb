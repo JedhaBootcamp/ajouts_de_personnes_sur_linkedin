{
 "cells": [
  {
   "cell_type": "code",
   "execution_count": 9,
   "metadata": {},
   "outputs": [],
   "source": [
    "from selenium import webdriver\n",
    "from time import sleep\n",
    "import pandas as pd \n",
    "import numpy as np"
   ]
  },
  {
   "cell_type": "code",
   "execution_count": 10,
   "metadata": {},
   "outputs": [],
   "source": [
    "# Open a chrome session \n",
    "driver = webdriver.Chrome(\"/Applications/chromedriver\")"
   ]
  },
  {
   "cell_type": "code",
   "execution_count": 11,
   "metadata": {},
   "outputs": [],
   "source": [
    "# Go to LinkedIn \n",
    "driver.get(\"https://www.linkedin.com\")"
   ]
  },
  {
   "cell_type": "code",
   "execution_count": 7,
   "metadata": {},
   "outputs": [],
   "source": [
    "# Documentation\n",
    "??driver.find_element_by_class_name"
   ]
  },
  {
   "cell_type": "code",
   "execution_count": 14,
   "metadata": {},
   "outputs": [],
   "source": [
    "# Log In \n",
    "username = driver.find_element_by_class_name(\"login-email\")\n",
    "username.send_keys(\"EMAIL\")\n",
    "\n",
    "sleep(0.5)\n",
    "\n",
    "pw = driver.find_element_by_class_name(\"login-password\")\n",
    "pw.send_keys(\"PASSWORD\")\n",
    "\n",
    "sleep(0.5)\n",
    "log_in_button = driver.find_element_by_class_name(\"submit-button\")\n",
    "log_in_button.click()"
   ]
  },
  {
   "cell_type": "code",
   "execution_count": 35,
   "metadata": {},
   "outputs": [],
   "source": [
    "driver.get(\"https://www.linkedin.com/search/results/people/?facetGeoRegion=%5B%22fr%3A0%22%5D&keywords=Talent%20Acquisition&origin=FACETED_SEARCH\")"
   ]
  },
  {
   "cell_type": "code",
   "execution_count": 38,
   "metadata": {},
   "outputs": [],
   "source": [
    "buttons = driver.find_elements_by_class_name(\"search-result__actions--primary\")"
   ]
  },
  {
   "cell_type": "code",
   "execution_count": 33,
   "metadata": {},
   "outputs": [],
   "source": [
    "buttons[1].click()"
   ]
  },
  {
   "cell_type": "code",
   "execution_count": 24,
   "metadata": {},
   "outputs": [],
   "source": [
    "send_invite = driver.find_element_by_class_name(\"send-invite__actions\")"
   ]
  },
  {
   "cell_type": "code",
   "execution_count": 26,
   "metadata": {},
   "outputs": [],
   "source": [
    "send_invite.find_element_by_class_name(\"artdeco-button--secondary\").click()"
   ]
  },
  {
   "cell_type": "code",
   "execution_count": 28,
   "metadata": {},
   "outputs": [],
   "source": [
    "message = driver.find_element_by_class_name(\"send-invite__custom-message\")"
   ]
  },
  {
   "cell_type": "code",
   "execution_count": 29,
   "metadata": {},
   "outputs": [],
   "source": [
    "message.send_keys(\"Bonjour, j'aimerais beaucoup faire partie de votre réseau\")"
   ]
  },
  {
   "cell_type": "code",
   "execution_count": 32,
   "metadata": {},
   "outputs": [],
   "source": [
    "invite_sent = driver.find_element_by_class_name(\"send-invite__actions\")\n",
    "invite_sent.find_element_by_class_name(\"ml1\").click()"
   ]
  },
  {
   "cell_type": "code",
   "execution_count": 54,
   "metadata": {},
   "outputs": [],
   "source": [
    "driver.get(\"https://www.linkedin.com/search/results/people/?facetGeoRegion=%5B%22fr%3A0%22%5D&keywords=HR&origin=GLOBAL_SEARCH_HEADER\")"
   ]
  },
  {
   "cell_type": "code",
   "execution_count": 70,
   "metadata": {},
   "outputs": [],
   "source": [
    "buttons = driver.find_elements_by_class_name(\"search-result__actions--primary\")"
   ]
  },
  {
   "cell_type": "code",
   "execution_count": 71,
   "metadata": {},
   "outputs": [
    {
     "name": "stdout",
     "output_type": "stream",
     "text": [
      "Error on Connect with Estelle Moudenc. HR Specialist - CHANEL, Paris Area, France\n",
      "Error on Connect with Alban de Poulpiquet. HR Consulting, Paris Area, France\n",
      "Error on Connect with Laure Baudry. Global HR Business Executive, Paris Area, France\n"
     ]
    }
   ],
   "source": [
    "for button in buttons:\n",
    "    if button.text == \"Connect\":\n",
    "        try:\n",
    "            ## Click on Connect\n",
    "            button.click()\n",
    "            sleep(np.random.randint(2,4))\n",
    "\n",
    "            ## Add a note\n",
    "            send_invite = driver.find_element_by_class_name(\"send-invite__actions\")\n",
    "            send_invite.find_element_by_class_name(\"artdeco-button--secondary\").click()\n",
    "            sleep(np.random.randint(2,4))\n",
    "\n",
    "            ## Write Message\n",
    "            message = driver.find_element_by_class_name(\"send-invite__custom-message\")\n",
    "            message.send_keys(\"Bonjour, j'aimerais beaucoup faire partie de votre réseau\")\n",
    "            sleep(np.random.randint(2,4))  \n",
    "\n",
    "            ## Send invite\n",
    "            invite_sent = driver.find_element_by_class_name(\"send-invite__actions\")\n",
    "            invite_sent.find_element_by_class_name(\"ml1\").click()\n",
    "            sleep(np.random.randint(2,4))\n",
    "        except:\n",
    "            print(\"Error on {}\".format(button.get_attribute(\"aria-label\")))\n",
    "            sleep(1)"
   ]
  },
  {
   "cell_type": "code",
   "execution_count": 42,
   "metadata": {},
   "outputs": [],
   "source": [
    "??button.get_attribute()"
   ]
  },
  {
   "cell_type": "code",
   "execution_count": 50,
   "metadata": {},
   "outputs": [],
   "source": [
    "buttons[4].click()"
   ]
  },
  {
   "cell_type": "code",
   "execution_count": 53,
   "metadata": {},
   "outputs": [],
   "source": [
    "send_invite = driver.find_element_by_class_name(\"send-invite__actions\")\n",
    "send_invite.find_element_by_class_name(\"artdeco-button--secondary\").click()"
   ]
  },
  {
   "cell_type": "code",
   "execution_count": 68,
   "metadata": {},
   "outputs": [
    {
     "data": {
      "text/plain": [
       "2"
      ]
     },
     "execution_count": 68,
     "metadata": {},
     "output_type": "execute_result"
    }
   ],
   "source": [
    "np.random.randint(2,4)"
   ]
  },
  {
   "cell_type": "code",
   "execution_count": null,
   "metadata": {},
   "outputs": [],
   "source": []
  }
 ],
 "metadata": {
  "kernelspec": {
   "display_name": "Python 3",
   "language": "python",
   "name": "python3"
  },
  "language_info": {
   "codemirror_mode": {
    "name": "ipython",
    "version": 3
   },
   "file_extension": ".py",
   "mimetype": "text/x-python",
   "name": "python",
   "nbconvert_exporter": "python",
   "pygments_lexer": "ipython3",
   "version": "3.6.8"
  }
 },
 "nbformat": 4,
 "nbformat_minor": 2
}
